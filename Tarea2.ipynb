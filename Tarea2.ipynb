{
 "cells": [
  {
   "cell_type": "code",
   "execution_count": 1,
   "metadata": {
    "collapsed": true
   },
   "outputs": [],
   "source": [
    "from pylab import *\n",
    "%matplotlib inline"
   ]
  },
  {
   "cell_type": "markdown",
   "metadata": {},
   "source": [
    "# Tarea 2"
   ]
  },
  {
   "cell_type": "markdown",
   "metadata": {},
   "source": [
    "# Problema 1"
   ]
  },
  {
   "cell_type": "markdown",
   "metadata": {},
   "source": [
    "Realice un programa que encuentre todas las raíces de una función en un intervalo cerrado bajo la suposición de que la función realiza oscilaciones y entre cada oscilación hay al menos una raíz. \n",
    "Ponga en práctica esta función y encuentre todas las raíces de la siguiente función\n",
    "\n",
    "$$y(x)=cos(x)+ \\frac{6}{5}sin(x^2)$$\n",
    " el intervalo $(0, 2 \\pi)$"
   ]
  },
  {
   "cell_type": "markdown",
   "metadata": {},
   "source": [
    "# Metodod de Bisección"
   ]
  },
  {
   "cell_type": "markdown",
   "metadata": {},
   "source": [
    "Uno de los métodos para encontrar raices es el método de bisección, en este método lo que se hace es dividir el intervalo en 2 subintervalos de igual magnitud, reteniendo el subintervalo en donde f cambia de signo, para conservar al menos una raíz o cero, y repetir el proceso varias veces.\n",
    "\n",
    "Si $f$ tiene un cero en el intervalo $[a,b]$ entonces se pasa a calcular el punto medio:\n",
    "\n",
    "$$c=\\frac{a+b}{2}$$\n",
    "\n",
    "Después se averigua sí $f(a)f(c)<0$.Si lo es, entonces $f$ tiene un cero en $[a,c]$. Después se renombra a $c$ como $b$ y se comienza una vez más con el nuevo intervalo $[a,b]$, el cual tiene  longitud igual a la mitad del intervalo original.\n",
    "\n",
    "Si $f(a)f(c)>0$ , entonces $f(c)f(b)<0$ y en este caso se renombra a $c$ como $a$.En ambos casos se ha generado un nuevo intervalo que contiene un cero de $f$, y el proceso puede repetirse.\n",
    "\n",
    "Este metodo tiene una desventaja,que es lento en cuanto a convergencia (es decir que se necesita un n grande para que  sea pequeño). Otros métodos requieren menos iteraciones para alcanzar la misma exactitud, pero entonces no siempre se conoce una cota para la precisión. Por lo que suele recomendarse para encontrar un valor aproximado del cero de una función, y luego este valor se refina por medio de métodos más eficaces. La razón es porque la mayoría de los otros métodos para encontrar ceros de funciones requieren un valor inicial cerca de un cero; al carecer de dicho valor, pueden fallar por completo."
   ]
  },
  {
   "cell_type": "code",
   "execution_count": 2,
   "metadata": {
    "collapsed": true
   },
   "outputs": [],
   "source": [
    "def raiz_bip(func,x_i,x_d,err=1e-8):\n",
    "    raiz = 0.5*(x_i+x_d)\n",
    "    y_i,y_d = func(x_i),func(x_d)\n",
    "    n = 0\n",
    "    while abs(y_d)>=err:\n",
    "        y_m = func(raiz)\n",
    "        if y_m == 0.:\n",
    "            print (\"chin, le atine :D\")\n",
    "            break\n",
    "        if y_m*y_i < 0:\n",
    "            x_d = raiz\n",
    "        else:\n",
    "            x_i = raiz\n",
    "        raiz = 0.5*(x_i+x_d)\n",
    "        y_i,y_d = func(x_i),func(x_d)\n",
    "        n += 1\n",
    "        print (n,\"\\t\",raiz)\n",
    "    return raiz"
   ]
  },
  {
   "cell_type": "markdown",
   "metadata": {},
   "source": [
    "# Método de Newton"
   ]
  },
  {
   "cell_type": "markdown",
   "metadata": {},
   "source": [
    "El método de Newton para hallar las raíces de la ecuación $f(x) = 0$ es uno de los más efectivos. Consiste en tomar una aproximación inicial,$\\overline{x}$, y a continuación obtener una aproximación más refinada,es decir, se trata de acercarnos a la raíz p por medio de la fórmula recursiva:\n",
    "\n",
    "$$p_n=p_{n-1}-\\frac{f(p_{n-1})}{f'(p_{n-1})}$$\n",
    "\n",
    "Para obtener lo anterior se btiene la serie de Taylor para la funcion $f$ entonrno del punto $\\overline{x}$:\n",
    "\n",
    "$$f(x)=f(\\overline{x})+(x-\\overline{x})f'(\\overline{x})+\\frac{(x-\\overline{x})^2}{f}f''(\\overline{x})$$\n",
    "\n",
    "Si consideramos que $\\overline{x}=p$ y que $f(p)=0$,$(p-x)^2=0$, si despejamos $p$ tenemos que:\n",
    "\n",
    "$$p \\approx \\overline{x}-\\frac{f(x)}{f'(x)}$$\n",
    "\n",
    "Un aspecto importante es que:  \n",
    "\n",
    "Debemos tomar siempre como $p_0$ un valor t.q. $f(p_0 ) \\bullet f”(p_0 )>0$.\n",
    "Este método va a converger siempre que tomemos un $p_0$ lo bastante cercano al valor $p$ de la raíz.\n",
    "\n"
   ]
  },
  {
   "cell_type": "code",
   "execution_count": 3,
   "metadata": {
    "collapsed": false
   },
   "outputs": [],
   "source": [
    "def newton_1(func,d_func,x_ini,err=1e-8):\n",
    "    n=0\n",
    "    while abs(func(x_ini)) >= err:\n",
    "        print (n,\"\\t\",x_ini)\n",
    "        raiz = x_ini - func(x_ini)/d_func(x_ini)\n",
    "        x_ini = raiz\n",
    "        n += 1\n",
    "    return raiz"
   ]
  },
  {
   "cell_type": "markdown",
   "metadata": {},
   "source": [
    "El método anterior es muy bueno pero hay unas diferencias cuando tomamos el punto hacia la derecha o a la izquierda, por esta razón se va a implementar una función que contrarreste esta diferencia haciendo más preciso el método de newton."
   ]
  },
  {
   "cell_type": "code",
   "execution_count": 4,
   "metadata": {
    "collapsed": true
   },
   "outputs": [],
   "source": [
    "def num_dev(f,x,h=1e-4):\n",
    "    return (f(x+h)-f(x-h))/(2.*h)"
   ]
  },
  {
   "cell_type": "code",
   "execution_count": 5,
   "metadata": {
    "collapsed": false
   },
   "outputs": [],
   "source": [
    "def newton_2(func,x_ini,err=1e-8):\n",
    "    n=0\n",
    "    while abs(func(x_ini)) >= err:\n",
    "        print (n,\"\\t\",x_ini)\n",
    "        raiz = x_ini - func(x_ini)/num_dev(func,x_ini)\n",
    "        x_ini = raiz\n",
    "        n += 1\n",
    "    return raiz"
   ]
  },
  {
   "cell_type": "code",
   "execution_count": 6,
   "metadata": {
    "collapsed": true
   },
   "outputs": [],
   "source": [
    "def f_prueba(x):\n",
    "    return 1.2*sin(x**2) + cos(x)\n",
    "\n",
    "\n",
    "def d_f_prueba(x):\n",
    "    return 2.4*x*cos(x**2)- sin(x)"
   ]
  },
  {
   "cell_type": "code",
   "execution_count": 7,
   "metadata": {
    "collapsed": false
   },
   "outputs": [
    {
     "name": "stdout",
     "output_type": "stream",
     "text": [
      "0 \t 2\n",
      "1 \t 1.67275027476\n",
      "2 \t 1.73607398162\n",
      "3 \t 1.7337739424\n"
     ]
    },
    {
     "data": {
      "text/plain": [
       "1.7337718231249513"
      ]
     },
     "execution_count": 7,
     "metadata": {},
     "output_type": "execute_result"
    }
   ],
   "source": [
    "newton_2(f_prueba,2)"
   ]
  },
  {
   "cell_type": "code",
   "execution_count": 8,
   "metadata": {
    "collapsed": false
   },
   "outputs": [
    {
     "name": "stdout",
     "output_type": "stream",
     "text": [
      "0 \t 2\n",
      "1 \t 1.67275028459\n",
      "2 \t 1.73607397998\n",
      "3 \t 1.73377394243\n"
     ]
    },
    {
     "data": {
      "text/plain": [
       "1.7337718231249839"
      ]
     },
     "execution_count": 8,
     "metadata": {},
     "output_type": "execute_result"
    }
   ],
   "source": [
    "newton_1(f_prueba,d_f_prueba,2)"
   ]
  },
  {
   "cell_type": "code",
   "execution_count": 9,
   "metadata": {
    "collapsed": false
   },
   "outputs": [
    {
     "name": "stdout",
     "output_type": "stream",
     "text": [
      "0 \t 6.283185307179586\n",
      "1 \t 6.97964491487\n",
      "2 \t 5.50727105934\n",
      "3 \t 5.5579729121\n",
      "4 \t 5.54592687224\n",
      "5 \t 5.54540166568\n"
     ]
    },
    {
     "data": {
      "text/plain": [
       "5.5454005310134438"
      ]
     },
     "execution_count": 9,
     "metadata": {},
     "output_type": "execute_result"
    }
   ],
   "source": [
    "newton_1(f_prueba,d_f_prueba,2*pi)"
   ]
  },
  {
   "cell_type": "code",
   "execution_count": 10,
   "metadata": {
    "collapsed": false
   },
   "outputs": [
    {
     "name": "stdout",
     "output_type": "stream",
     "text": [
      "1 \t 6.75\n",
      "2 \t 6.625\n",
      "3 \t 6.5625\n",
      "4 \t 6.53125\n",
      "5 \t 6.546875\n",
      "6 \t 6.5546875\n",
      "7 \t 6.55859375\n",
      "8 \t 6.560546875\n",
      "9 \t 6.5615234375\n",
      "10 \t 6.56103515625\n",
      "11 \t 6.561279296875\n",
      "12 \t 6.5614013671875\n",
      "13 \t 6.56146240234375\n",
      "14 \t 6.561492919921875\n",
      "15 \t 6.5614776611328125\n",
      "16 \t 6.561470031738281\n",
      "17 \t 6.561466217041016\n",
      "18 \t 6.561468124389648\n",
      "19 \t 6.561469078063965\n",
      "20 \t 6.561468601226807\n",
      "21 \t 6.561468839645386\n",
      "22 \t 6.561468958854675\n",
      "23 \t 6.56146901845932\n",
      "24 \t 6.5614690482616425\n",
      "25 \t 6.561469063162804\n",
      "26 \t 6.561469055712223\n"
     ]
    },
    {
     "data": {
      "text/plain": [
       "6.561469055712223"
      ]
     },
     "execution_count": 10,
     "metadata": {},
     "output_type": "execute_result"
    }
   ],
   "source": [
    "raiz_bip(f_prueba,6,7)"
   ]
  },
  {
   "cell_type": "code",
   "execution_count": 11,
   "metadata": {
    "collapsed": false
   },
   "outputs": [
    {
     "data": {
      "image/png": "[encoded data removed]",
      "text/plain": [
       "<matplotlib.figure.Figure at 0x10963b588>"
      ]
     },
     "metadata": {},
     "output_type": "display_data"
    }
   ],
   "source": [
    "x=linspace(0,2*pi,100)\n",
    "plot(x,f_prueba(x),'-')\n",
    "plot([1.7337718237670847],[0],'o')\n",
    "plot([1.7337718231249839],[0],'x',markersize=20)\n",
    "\n",
    "grid(True)\n",
    "show()"
   ]
  },
  {
   "cell_type": "markdown",
   "metadata": {},
   "source": [
    "# Problema 2"
   ]
  },
  {
   "cell_type": "markdown",
   "metadata": {
    "collapsed": true
   },
   "source": [
    "Para este problema vamos a usar los programas usados previamente y se usara la siguiente función como función de prueba:\n",
    "\n",
    "$$f(x,y)=2e^{-{(x+1)^2}}(e^{-{(y+2)^2}}+e^{-{(y-2)^2}})+6x(x^2+y^2)e^{-{(x^2+y^2)}}-1$$\n",
    "\n",
    "En este caso vamos a tomar una x fija y vamos a hacer el barrido en y para la región $(-4,4)\\times(-4,4)$ "
   ]
  },
  {
   "cell_type": "code",
   "execution_count": 12,
   "metadata": {
    "collapsed": true
   },
   "outputs": [],
   "source": [
    "def f_prueba2(x):\n",
    "    (12*x**2 + 48)*exp(x**2 - 4) + 2*(exp(-2*x - 4) + exp(-2*x + 4))*exp(-9) - 1\n",
    "    \n",
    "    \n",
    "\n",
    "def d_f_prueba2(x):\n",
    "    2*x*(12*x**2 + 48)*exp(x**2 - 4) + 24*x*exp(x**2 - 4) + 2*(-2*exp(-2*x - 4) - 2*exp(-2*x + 4))*exp(-9)\n",
    "    "
   ]
  },
  {
   "cell_type": "markdown",
   "metadata": {},
   "source": [
    "# Problema 3"
   ]
  },
  {
   "cell_type": "code",
   "execution_count": 112,
   "metadata": {
    "collapsed": true
   },
   "outputs": [],
   "source": [
    "def rk4(ec,p_ini,x,args=0,h=0.01):\n",
    "    if (x[1]-x[0]) <= 5.*h:\n",
    "        h = (x[1]-x[0])/10\n",
    "    tiempos = arange(x[0],x[1]+h,h)\n",
    "    sol = zeros((len(tiempos),len(p_ini)))\n",
    "    sol[0,:] = p_ini\n",
    "    if args==0:\n",
    "        for i in range(len(tiempos)-1):\n",
    "            k1 = ec(sol[i,:],tiempos[i])\n",
    "            k2 = ec(sol[i,:]+0.5*h*k1,tiempos[i]+0.5*h)\n",
    "            k3 = ec(sol[i,:]+0.5*h*k2,tiempos[i]+0.5*h)\n",
    "            k4 = ec(sol[i,:]+h*k3,tiempos[i]+h)\n",
    "            sol[i+1,:]=sol[i,:]+(h/6.)*(k1+2*k2+2*k3+k4)\n",
    "    else:\n",
    "        for i in range(len(tiempos)-1):\n",
    "            k1 = ec(sol[i,:],tiempos[i],args)\n",
    "            k2 = ec(sol[i,:]+0.5*h*k1,tiempos[i]+0.5*h,args)\n",
    "            k3 = ec(sol[i,:]+0.5*h*k2,tiempos[i]+0.5*h,args)\n",
    "            k4 = ec(sol[i,:]+h*k3,tiempos[i]+h,args)\n",
    "            sol[i+1,:]=sol[i,:]+(h/6.)*(k1+2*k2+2*k3+k4)\n",
    "    return tiempos,sol"
   ]
  },
  {
   "cell_type": "code",
   "execution_count": 151,
   "metadata": {
    "collapsed": true
   },
   "outputs": [],
   "source": [
    "def e_mov(r_v,t,fric=0,g=9.8,m=1):\n",
    "    u = sqrt(r_v[2]**2 + r_v[3]**2)\n",
    "    dx = r_v[2]\n",
    "    dy = r_v[3]\n",
    "    if fric == 0:\n",
    "        dvx,dvy = 0,(-g/m)*cos(alfa)\n",
    "    \n",
    "        #print \"No use un modelo de friccion\"\n",
    "    else:\n",
    "        dvx = (-g/m)*sin(alfa) - fric([r_v[2],r_v[3]])[0]\n",
    "        dvy = (-g/m)*cos(alfa) - fric([r_v[2],r_v[3]])[1]\n",
    "        #print \"Use un modelo de friccion\"\n",
    "    return array([dx,dy,dvx,dvy])\n"
   ]
  },
  {
   "cell_type": "code",
   "execution_count": 152,
   "metadata": {
    "collapsed": true
   },
   "outputs": [],
   "source": [
    "def fric_v(v,gamma=0.1):\n",
    "    f_x = gamma*v[0]\n",
    "    f_y = gamma*v[1]\n",
    "    return array([f_x,f_y]) \n",
    "\n",
    "def fric_v2(v,gamma=0.1):\n",
    "    norm_v = sqrt(v[0]**2 + v[1]**2)\n",
    "    f_x = gamma*norm_v*v[0]\n",
    "    f_y = gamma*norm_v*v[1]\n",
    "    return array([f_x,f_y]) "
   ]
  },
  {
   "cell_type": "code",
   "execution_count": 153,
   "metadata": {
    "collapsed": false
   },
   "outputs": [
    {
     "data": {
      "image/png": "[encoded data removed]",
      "text/plain": [
       "<matplotlib.figure.Figure at 0x10ed056d8>"
      ]
     },
     "metadata": {},
     "output_type": "display_data"
    }
   ],
   "source": [
    "p = [0,0,5,5]\n",
    "alfa=15\n",
    "t,sol_id=rk4(e_mov,p,[0,10])\n",
    "plot(sol_id[:,0],sol_id[:,1])\n",
    "show()"
   ]
  },
  {
   "cell_type": "code",
   "execution_count": 154,
   "metadata": {
    "collapsed": false
   },
   "outputs": [
    {
     "data": {
      "image/png": "[encoded data removed]",
      "text/plain": [
       "<matplotlib.figure.Figure at 0x10ea3ee48>"
      ]
     },
     "metadata": {},
     "output_type": "display_data"
    }
   ],
   "source": [
    "p = [0,0,5,5]\n",
    "alfa=15\n",
    "t,sol_fv=rk4(e_mov,p,[0,10],fric_v2)\n",
    "plot(sol_fv[:,0],sol_fv[:,1])\n",
    "show()"
   ]
  },
  {
   "cell_type": "code",
   "execution_count": 155,
   "metadata": {
    "collapsed": true
   },
   "outputs": [],
   "source": [
    "def rebote(r_v_i,mi_dt):\n",
    "    dt_busqueda = mi_dt/2\n",
    "    y_izq = r_v_i\n",
    "    t,sol = rk4(e_mov,r_v_i,[0,dt_busqueda],fric_v)\n",
    "    y_med = sol[-1,:]\n",
    "    while abs(y_izq[1]) > 1e-5:\n",
    "        if y_izq[1]*y_med[1] < 0:\n",
    "            reinicio = y_izq\n",
    "        else:\n",
    "            reinicio = y_med\n",
    "        dt_busqueda = dt_busqueda/2\n",
    "        t,sol = rk4(e_mov,reinicio,[0,dt_busqueda],fric_v)\n",
    "        y_izq = reinicio\n",
    "        y_med = sol[-1,:]\n",
    "    y_izq = array([y_izq[0],y_izq[1],y_izq[2],-y_izq[3]])    \n",
    "    return y_izq"
   ]
  },
  {
   "cell_type": "code",
   "execution_count": 156,
   "metadata": {
    "collapsed": false
   },
   "outputs": [
    {
     "data": {
      "image/png": "[encoded data removed]",
      "text/plain": [
       "<matplotlib.figure.Figure at 0x10ea16828>"
      ]
     },
     "metadata": {},
     "output_type": "display_data"
    }
   ],
   "source": [
    "inicio = [0,0,5,5]\n",
    "N = 100\n",
    "alfa = 45\n",
    "trayectoria = zeros((N,len(inicio)))\n",
    "mi_dt = .1\n",
    "trayectoria[0,:] = array(inicio)\n",
    "for i in range(N-1):\n",
    "    t,sol_dt = rk4(e_mov,trayectoria[i,:],[0,mi_dt],fric_v)\n",
    "    if sol_dt[-1,:][1] < 0:\n",
    "        punto = rebote(trayectoria[i,:],mi_dt)\n",
    "        trayectoria[i+1,:] = punto\n",
    "    else:\n",
    "        trayectoria[i+1,:] = sol_dt[-1,:]\n",
    "\n",
    "plot(trayectoria[:,0],trayectoria[:,1],'o-')\n",
    "show()"
   ]
  },
  {
   "cell_type": "code",
   "execution_count": 157,
   "metadata": {
    "collapsed": false
   },
   "outputs": [
    {
     "data": {
      "image/png": "[encoded data removed]",
      "text/plain": [
       "<matplotlib.figure.Figure at 0x10f09f2e8>"
      ]
     },
     "metadata": {},
     "output_type": "display_data"
    }
   ],
   "source": [
    "inicio = [0,0,5,5]\n",
    "N = 100\n",
    "alfa = 30\n",
    "trayectoria = zeros((N,len(inicio)))\n",
    "mi_dt = .1\n",
    "trayectoria[0,:] = array(inicio)\n",
    "for i in range(N-1):\n",
    "    t,sol_dt = rk4(e_mov,trayectoria[i,:],[0,mi_dt],fric_v)\n",
    "    if sol_dt[-1,:][1] < 0:\n",
    "        punto = rebote(trayectoria[i,:],mi_dt)\n",
    "        trayectoria[i+1,:] = punto\n",
    "    else:\n",
    "        trayectoria[i+1,:] = sol_dt[-1,:]\n",
    "\n",
    "plot(trayectoria[:,0],trayectoria[:,1],'o-')\n",
    "show()"
   ]
  },
  {
   "cell_type": "code",
   "execution_count": 158,
   "metadata": {
    "collapsed": false
   },
   "outputs": [
    {
     "data": {
      "image/png": "[encoded data removed]",
      "text/plain": [
       "<matplotlib.figure.Figure at 0x10e777ef0>"
      ]
     },
     "metadata": {},
     "output_type": "display_data"
    }
   ],
   "source": [
    "inicio = [0,0,5,5]\n",
    "N = 100\n",
    "alfa = 15\n",
    "trayectoria = zeros((N,len(inicio)))\n",
    "mi_dt = .1\n",
    "trayectoria[0,:] = array(inicio)\n",
    "for i in range(N-1):\n",
    "    t,sol_dt = rk4(e_mov,trayectoria[i,:],[0,mi_dt],fric_v)\n",
    "    if sol_dt[-1,:][1] < 0:\n",
    "        punto = rebote(trayectoria[i,:],mi_dt)\n",
    "        trayectoria[i+1,:] = punto\n",
    "    else:\n",
    "        trayectoria[i+1,:] = sol_dt[-1,:]\n",
    "\n",
    "plot(trayectoria[:,0],trayectoria[:,1],'o-')\n",
    "show()"
   ]
  },
  {
   "cell_type": "code",
   "execution_count": null,
   "metadata": {
    "collapsed": true
   },
   "outputs": [],
   "source": []
  }
 ],
 "metadata": {
  "anaconda-cloud": {},
  "kernelspec": {
   "display_name": "Python [Root]",
   "language": "python",
   "name": "Python [Root]"
  },
  "language_info": {
   "codemirror_mode": {
    "name": "ipython",
    "version": 3
   },
   "file_extension": ".py",
   "mimetype": "text/x-python",
   "name": "python",
   "nbconvert_exporter": "python",
   "pygments_lexer": "ipython3",
   "version": "3.5.2"
  }
 },
 "nbformat": 4,
 "nbformat_minor": 0
}
